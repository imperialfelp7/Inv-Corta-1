{
 "cells": [
  {
   "cell_type": "markdown",
   "metadata": {},
   "source": [
    "Pandas is a Library that helps data scientist to prepare transform and present the data in a more appealing and structured way, it is flexible, very capable and easy to use. It can manage the whole data preprocessing workflow without the need of jumping from a tool to another.\n",
    "\n",
    "Pandas uses data frames, a tabular data structure that organizes the data in labeled rows (indexes) and columns.\n",
    "\n",
    "Pandas is based on numpy, and can be used as a compliment for matplotlib, sci-kit, and other tool used for data science.\n",
    "\n",
    "\n",
    "This tutorial will show some basic functionalities and applications for Pandas Library."
   ]
  },
  {
   "cell_type": "markdown",
   "metadata": {},
   "source": [
    "1. Import libraries needed to manipulate data.\n",
    "For this example we will use pandas, numpy and matplotlib, but because their names are large, and not that easy to handle, we will put an alias for each one, and we will use popular aliases as follows:"
   ]
  },
  {
   "cell_type": "code",
   "execution_count": 59,
   "metadata": {},
   "outputs": [],
   "source": [
    "import pandas as pd\n",
    "import numpy as np\n",
    "from matplotlib import pyplot as plt\n",
    "from sklearn.utils import shuffle"
   ]
  },
  {
   "cell_type": "markdown",
   "metadata": {},
   "source": [
    "2. Basic Functions \n",
    "\n",
    "Series: One-Dimensional labeled array, which is able to hold any type of data.\n",
    "In the next example is easy to see how a series must be defined."
   ]
  },
  {
   "cell_type": "code",
   "execution_count": 60,
   "metadata": {
    "scrolled": true
   },
   "outputs": [],
   "source": [
    " serie_1 = pd.Series([2,3,4,5,6], index=['a','b','c','d','e'])"
   ]
  },
  {
   "cell_type": "raw",
   "metadata": {},
   "source": [
    "The output will be a table, where the first column is the Index and the next one is the data stored in there."
   ]
  },
  {
   "cell_type": "code",
   "execution_count": 61,
   "metadata": {},
   "outputs": [
    {
     "data": {
      "text/plain": [
       "a    2\n",
       "b    3\n",
       "c    4\n",
       "d    5\n",
       "e    6\n",
       "dtype: int64"
      ]
     },
     "execution_count": 61,
     "metadata": {},
     "output_type": "execute_result"
    }
   ],
   "source": [
    "serie_1"
   ]
  },
  {
   "cell_type": "markdown",
   "metadata": {},
   "source": [
    "Some manipulation can be done to this structures, in order to be able to obtain certain information."
   ]
  },
  {
   "cell_type": "markdown",
   "metadata": {},
   "source": [
    "Get one element"
   ]
  },
  {
   "cell_type": "code",
   "execution_count": 62,
   "metadata": {},
   "outputs": [
    {
     "data": {
      "text/plain": [
       "4"
      ]
     },
     "execution_count": 62,
     "metadata": {},
     "output_type": "execute_result"
    }
   ],
   "source": [
    "serie_1['c']"
   ]
  },
  {
   "cell_type": "markdown",
   "metadata": {},
   "source": [
    "Set an index of a series to a value, for example set index c that belongs to a Series Serie_1 to 11"
   ]
  },
  {
   "cell_type": "code",
   "execution_count": 63,
   "metadata": {},
   "outputs": [],
   "source": [
    "serie_1['c'] = 11 # c is originally set to 4 then to 11"
   ]
  },
  {
   "cell_type": "code",
   "execution_count": 64,
   "metadata": {},
   "outputs": [
    {
     "data": {
      "text/plain": [
       "11"
      ]
     },
     "execution_count": 64,
     "metadata": {},
     "output_type": "execute_result"
    }
   ],
   "source": [
    "serie_1['c']"
   ]
  },
  {
   "cell_type": "markdown",
   "metadata": {},
   "source": [
    "Use boolean operations for indexing."
   ]
  },
  {
   "cell_type": "code",
   "execution_count": 65,
   "metadata": {},
   "outputs": [
    {
     "data": {
      "text/plain": [
       "a     2\n",
       "b     3\n",
       "c    11\n",
       "d     5\n",
       "e     6\n",
       "dtype: int64"
      ]
     },
     "execution_count": 65,
     "metadata": {},
     "output_type": "execute_result"
    }
   ],
   "source": [
    "serie_1[(serie_1 > 1)]"
   ]
  },
  {
   "cell_type": "code",
   "execution_count": 66,
   "metadata": {},
   "outputs": [
    {
     "data": {
      "text/plain": [
       "b    3\n",
       "d    5\n",
       "e    6\n",
       "dtype: int64"
      ]
     },
     "execution_count": 66,
     "metadata": {},
     "output_type": "execute_result"
    }
   ],
   "source": [
    "serie_1[(serie_1 >= 3) & (serie_1 <11)]"
   ]
  },
  {
   "cell_type": "markdown",
   "metadata": {},
   "source": [
    "Drop a value from a row, here we can specify how many rows you want to remove from the series, just using a comma to separate each element."
   ]
  },
  {
   "cell_type": "code",
   "execution_count": 67,
   "metadata": {},
   "outputs": [
    {
     "data": {
      "text/plain": [
       "c    11\n",
       "d     5\n",
       "e     6\n",
       "dtype: int64"
      ]
     },
     "execution_count": 67,
     "metadata": {},
     "output_type": "execute_result"
    }
   ],
   "source": [
    "serie_1.drop(['a','b']) "
   ]
  },
  {
   "cell_type": "markdown",
   "metadata": {},
   "source": [
    "Dataframe: Two-dimensional labeled data structure that is capable of hold different types of data per column."
   ]
  },
  {
   "cell_type": "markdown",
   "metadata": {},
   "source": [
    "To simplify things we will first define the data stored in the dataframe, for this example we will use 4 models of electricc guitars, and some of their technical specifications."
   ]
  },
  {
   "cell_type": "code",
   "execution_count": 68,
   "metadata": {},
   "outputs": [],
   "source": [
    "data = {'Guitar models' : ['Stratocaster', 'RGD', ' KM7 ', 'Les Paul'], \n",
    "        'scale length' : ['standard 25.5\"', 'baritone 26.5\"','baritone 26.5\"', 'short 24.75\" ' ],\n",
    "        'number of strings' :['6', '6', 7, '6' ] }"
   ]
  },
  {
   "cell_type": "markdown",
   "metadata": {},
   "source": [
    "then proceed to create the data frame as follows:"
   ]
  },
  {
   "cell_type": "code",
   "execution_count": 69,
   "metadata": {},
   "outputs": [],
   "source": [
    "dataframe = pd.DataFrame(data, columns = ['Guitar models', 'scale length', 'number of strings'])"
   ]
  },
  {
   "cell_type": "code",
   "execution_count": 70,
   "metadata": {},
   "outputs": [
    {
     "data": {
      "text/html": [
       "<div>\n",
       "<style scoped>\n",
       "    .dataframe tbody tr th:only-of-type {\n",
       "        vertical-align: middle;\n",
       "    }\n",
       "\n",
       "    .dataframe tbody tr th {\n",
       "        vertical-align: top;\n",
       "    }\n",
       "\n",
       "    .dataframe thead th {\n",
       "        text-align: right;\n",
       "    }\n",
       "</style>\n",
       "<table border=\"1\" class=\"dataframe\">\n",
       "  <thead>\n",
       "    <tr style=\"text-align: right;\">\n",
       "      <th></th>\n",
       "      <th>Guitar models</th>\n",
       "      <th>scale length</th>\n",
       "      <th>number of strings</th>\n",
       "    </tr>\n",
       "  </thead>\n",
       "  <tbody>\n",
       "    <tr>\n",
       "      <th>0</th>\n",
       "      <td>Stratocaster</td>\n",
       "      <td>standard 25.5\"</td>\n",
       "      <td>6</td>\n",
       "    </tr>\n",
       "    <tr>\n",
       "      <th>1</th>\n",
       "      <td>RGD</td>\n",
       "      <td>baritone 26.5\"</td>\n",
       "      <td>6</td>\n",
       "    </tr>\n",
       "    <tr>\n",
       "      <th>2</th>\n",
       "      <td>KM7</td>\n",
       "      <td>baritone 26.5\"</td>\n",
       "      <td>7</td>\n",
       "    </tr>\n",
       "    <tr>\n",
       "      <th>3</th>\n",
       "      <td>Les Paul</td>\n",
       "      <td>short 24.75\"</td>\n",
       "      <td>6</td>\n",
       "    </tr>\n",
       "  </tbody>\n",
       "</table>\n",
       "</div>"
      ],
      "text/plain": [
       "  Guitar models    scale length number of strings\n",
       "0  Stratocaster  standard 25.5\"                 6\n",
       "1           RGD  baritone 26.5\"                 6\n",
       "2          KM7   baritone 26.5\"                 7\n",
       "3      Les Paul   short 24.75\"                  6"
      ]
     },
     "execution_count": 70,
     "metadata": {},
     "output_type": "execute_result"
    }
   ],
   "source": [
    "dataframe"
   ]
  },
  {
   "cell_type": "markdown",
   "metadata": {},
   "source": [
    "there some different ways to select specific values in dataframes, by position, by label, and both."
   ]
  },
  {
   "cell_type": "markdown",
   "metadata": {},
   "source": [
    "By position"
   ]
  },
  {
   "cell_type": "code",
   "execution_count": 71,
   "metadata": {},
   "outputs": [
    {
     "data": {
      "text/html": [
       "<div>\n",
       "<style scoped>\n",
       "    .dataframe tbody tr th:only-of-type {\n",
       "        vertical-align: middle;\n",
       "    }\n",
       "\n",
       "    .dataframe tbody tr th {\n",
       "        vertical-align: top;\n",
       "    }\n",
       "\n",
       "    .dataframe thead th {\n",
       "        text-align: right;\n",
       "    }\n",
       "</style>\n",
       "<table border=\"1\" class=\"dataframe\">\n",
       "  <thead>\n",
       "    <tr style=\"text-align: right;\">\n",
       "      <th></th>\n",
       "      <th>scale length</th>\n",
       "    </tr>\n",
       "  </thead>\n",
       "  <tbody>\n",
       "    <tr>\n",
       "      <th>1</th>\n",
       "      <td>baritone 26.5\"</td>\n",
       "    </tr>\n",
       "  </tbody>\n",
       "</table>\n",
       "</div>"
      ],
      "text/plain": [
       "     scale length\n",
       "1  baritone 26.5\""
      ]
     },
     "execution_count": 71,
     "metadata": {},
     "output_type": "execute_result"
    }
   ],
   "source": [
    "dataframe.iloc[[1], [1]]"
   ]
  },
  {
   "cell_type": "markdown",
   "metadata": {},
   "source": [
    "If only one parameter is used it will retrieve the information corresponding to that parameter"
   ]
  },
  {
   "cell_type": "code",
   "execution_count": 72,
   "metadata": {},
   "outputs": [
    {
     "data": {
      "text/plain": [
       "Guitar models                  KM7 \n",
       "scale length         baritone 26.5\"\n",
       "number of strings                 7\n",
       "Name: 2, dtype: object"
      ]
     },
     "execution_count": 72,
     "metadata": {},
     "output_type": "execute_result"
    }
   ],
   "source": [
    "dataframe.iloc[2]"
   ]
  },
  {
   "cell_type": "markdown",
   "metadata": {},
   "source": [
    "By label "
   ]
  },
  {
   "cell_type": "code",
   "execution_count": 73,
   "metadata": {},
   "outputs": [
    {
     "data": {
      "text/html": [
       "<div>\n",
       "<style scoped>\n",
       "    .dataframe tbody tr th:only-of-type {\n",
       "        vertical-align: middle;\n",
       "    }\n",
       "\n",
       "    .dataframe tbody tr th {\n",
       "        vertical-align: top;\n",
       "    }\n",
       "\n",
       "    .dataframe thead th {\n",
       "        text-align: right;\n",
       "    }\n",
       "</style>\n",
       "<table border=\"1\" class=\"dataframe\">\n",
       "  <thead>\n",
       "    <tr style=\"text-align: right;\">\n",
       "      <th></th>\n",
       "      <th>scale length</th>\n",
       "    </tr>\n",
       "  </thead>\n",
       "  <tbody>\n",
       "    <tr>\n",
       "      <th>1</th>\n",
       "      <td>baritone 26.5\"</td>\n",
       "    </tr>\n",
       "  </tbody>\n",
       "</table>\n",
       "</div>"
      ],
      "text/plain": [
       "     scale length\n",
       "1  baritone 26.5\""
      ]
     },
     "execution_count": 73,
     "metadata": {},
     "output_type": "execute_result"
    }
   ],
   "source": [
    "dataframe.loc[[1], ['scale length']]"
   ]
  },
  {
   "cell_type": "markdown",
   "metadata": {},
   "source": [
    "3. Real life dataset\n",
    "\n",
    "One of the most useful functionalities of Pandas, is to have the possibility of importing datasets from several document formats, The following example will explore how these Pandas work in a real life data set.\n",
    "\n",
    "For these example we will use a LEGO dataset."
   ]
  },
  {
   "cell_type": "code",
   "execution_count": 74,
   "metadata": {},
   "outputs": [],
   "source": [
    "df = pd.read_csv(r'C:\\Users\\dengo\\Downloads\\lego-sets1\\lego_sets.csv')\n"
   ]
  },
  {
   "cell_type": "code",
   "execution_count": 75,
   "metadata": {},
   "outputs": [
    {
     "name": "stdout",
     "output_type": "stream",
     "text": [
      "       ages  list_price  num_reviews  piece_count  play_star_rating  \\\n",
      "0      6-12     29.9900          2.0        277.0               4.0   \n",
      "1      6-12     19.9900          2.0        168.0               4.0   \n",
      "2      6-12     12.9900         11.0         74.0               4.3   \n",
      "3       12+     99.9900         23.0       1032.0               3.6   \n",
      "4       12+     79.9900         14.0        744.0               3.2   \n",
      "5       12+     59.9900          7.0        597.0               3.7   \n",
      "6       12+     59.9900         37.0        598.0               3.7   \n",
      "7       12+     49.9900         24.0        780.0               4.4   \n",
      "8       12+     39.9900         23.0        468.0               3.6   \n",
      "9       12+     39.9900         11.0        444.0               3.6   \n",
      "10      12+     39.9900         14.0        386.0               4.1   \n",
      "11      12+     34.9900         53.0        321.0               3.2   \n",
      "12      12+     29.9900          7.0        361.0               4.2   \n",
      "13     7-12    159.9900         63.0        847.0               3.8   \n",
      "14      10+     29.9900         13.0        708.0               4.7   \n",
      "15      10+     19.9900          1.0        234.0               3.0   \n",
      "16      10+     19.9900          1.0        160.0               5.0   \n",
      "17      10+      9.9900          1.0        149.0               2.0   \n",
      "18      10+      9.9900          1.0        141.0               2.0   \n",
      "19      10+      9.9900          3.0        101.0               4.0   \n",
      "20      10+      9.9900          2.0        105.0               3.0   \n",
      "21      10+      9.9900          1.0        113.0               5.0   \n",
      "22      10+      9.9900          1.0        136.0               NaN   \n",
      "23      10+      9.9900          2.0         91.0               3.0   \n",
      "24      10+      9.9900          7.0        140.0               3.2   \n",
      "25      10+      9.9900          5.0        143.0               4.6   \n",
      "26      10+      9.9900          3.0        122.0               2.7   \n",
      "27      10+      9.9900          5.0        130.0               4.3   \n",
      "28      10+      9.9900          3.0        119.0               4.5   \n",
      "29      10+      9.9900          1.0        135.0               1.0   \n",
      "...     ...         ...          ...          ...               ...   \n",
      "12231  7-14     48.7878          5.0        267.0               3.6   \n",
      "12232  7-14     48.7878         12.0        293.0               4.9   \n",
      "12233  8-14     42.6878         24.0        305.0               4.5   \n",
      "12234  7-14     42.6878         18.0        254.0               4.2   \n",
      "12235  7-14     30.4878          2.0        198.0               4.0   \n",
      "12236  7-14     30.4878          8.0        204.0               4.1   \n",
      "12237  7-14     30.4878         19.0        201.0               4.1   \n",
      "12238  6-12     18.2878          7.0        141.0               4.0   \n",
      "12239  6-12     18.2878         18.0        124.0               4.5   \n",
      "12240    5+      4.8678         13.0          8.0               4.3   \n",
      "12241  8-14    103.6878          9.0        643.0               4.4   \n",
      "12242   16+    365.9878         88.0       4867.0               4.8   \n",
      "12243  9-14    225.6878         52.0       2295.0               4.7   \n",
      "12244  9-14    134.1878         15.0       1403.0               4.5   \n",
      "12245  9-14    103.6878          9.0        830.0               4.6   \n",
      "12246  9-14    103.6878         11.0       1202.0               4.7   \n",
      "12247  9-14     97.5878          6.0        914.0               4.8   \n",
      "12248  9-14     97.5878         19.0        944.0               3.6   \n",
      "12249  9-14     82.9478          8.0        876.0               4.7   \n",
      "12250  8-14     73.1878          8.0        747.0               4.3   \n",
      "12251  8-14     60.9878          7.0        521.0               4.7   \n",
      "12252  8-14     60.9878         29.0        544.0               4.6   \n",
      "12253  8-14     48.7878         21.0        494.0               4.6   \n",
      "12254  7-14     36.5878         10.0        312.0               3.5   \n",
      "12255  8-14     36.5878          8.0        341.0               4.2   \n",
      "12256  7-14     36.5878          6.0        341.0               4.4   \n",
      "12257  7-14     24.3878          8.0        217.0               4.1   \n",
      "12258  7-14     24.3878         18.0        233.0               4.6   \n",
      "12259  6-14     12.1878          1.0         48.0               5.0   \n",
      "12260  6-14     12.1878         11.0        109.0               4.5   \n",
      "\n",
      "                                               prod_desc  prod_id  \\\n",
      "0      Catapult into action and take back the eggs fr...  75823.0   \n",
      "1      Launch a flying attack and rescue the eggs fro...  75822.0   \n",
      "2      Chase the piggy with lightning-fast Chuck and ...  75821.0   \n",
      "3      Explore the architecture of the United States ...  21030.0   \n",
      "4      Recreate the Solomon R. Guggenheim Museum® wit...  21035.0   \n",
      "5      Celebrate Shanghai with this LEGO® Architectur...  21039.0   \n",
      "6      Celebrate New York City with this LEGO® Archit...  21028.0   \n",
      "7      Recreate Buckingham Palace with LEGO® Architec...  21029.0   \n",
      "8      Celebrate London with this LEGO® Architecture ...  21034.0   \n",
      "9      Celebrate Chicago with this LEGO® Architecture...  21033.0   \n",
      "10       Experience the grandeur of the Arc de Triomphe!  21036.0   \n",
      "11     Build your own LEGO® interpretation of the ico...  21019.0   \n",
      "12     Celebrate Sydney with this LEGO® Architecture ...  21032.0   \n",
      "13                   Bring your LEGO® creations to life!  17101.0   \n",
      "14         Build a LEGO® BrickHeadz version of yourself!  41597.0   \n",
      "15     Train a raptor with LEGO® BrickHeadz™ Owen and...  41614.0   \n",
      "16     Join Mr. Incredible and Frozone for LEGO® Bric...  41613.0   \n",
      "17     Growl like a Wookiee with a LEGO® BrickHeadz™ ...  41609.0   \n",
      "18     Be a rogue with a LEGO® BrickHeadz™ constructi...  41608.0   \n",
      "19     Save the universe with LEGO® BrickHeadz Iron M...  41604.0   \n",
      "20     Feel the power of Infinity with LEGO® BrickHea...  41605.0   \n",
      "21     Be a legendary outlaw with LEGO® BrickHeadz St...  41606.0   \n",
      "22     Master the skills of a green-skinned assassin ...  41607.0   \n",
      "23     Join the Resistance with a LEGO® BrickHeadz co...  41485.0   \n",
      "24     Say “I love you” with a LEGO® BrickHeadz™ Vale...  40270.0   \n",
      "25       Stand tall with LEGO® BrickHeadz Wonder Woman™!  41599.0   \n",
      "26     Live life in the fast lane with LEGO® BrickHea...  41598.0   \n",
      "27     Summon the dark side with a LEGO® BrickHeadz c...  41603.0   \n",
      "28     Feel the Force with a LEGO® BrickHeadz constru...  41602.0   \n",
      "29               Dive in with LEGO® BrickHeadz Aquaman™!  41600.0   \n",
      "...                                                  ...      ...   \n",
      "12231               Party on with Superman™ and friends!  70919.0   \n",
      "12232              Join Batman™ in a comical food fight!  70920.0   \n",
      "12233  Put the heat on The Penguin™ Arctic Roller wit...  70911.0   \n",
      "12234  Battle with Batman™ against The Riddler™ and h...  70903.0   \n",
      "12235  Bring down Captain Boomerang™ with Batman’s Ba...  70918.0   \n",
      "12236  Help Batman™ to stop Scarecrow™ delivering a s...  70910.0   \n",
      "12237  Protect the power plant from Mr. Freeze’s ice ...  70901.0   \n",
      "12238  Power into the sky to stop Scarecrow’s fear ga...  70913.0   \n",
      "12239             Help Batman™ stop The Joker™ escaping!  70900.0   \n",
      "12240  Discover new heroes and villains in LEGO® Mini...  71020.0   \n",
      "12241           Launch a space mission from the Batcave!  70923.0   \n",
      "12242         Live the life of a ninja in NINJAGO® City!  70620.0   \n",
      "12243            Join the ninja aboard Wu’s flying ship!  70618.0   \n",
      "12244                 Evade the traps inside the Temple!  70617.0   \n",
      "12245  Defend NINJAGO® City from Garmadon Shark Mech ...  70656.0   \n",
      "12246   Turn sound into a weapon with Cole’s Quake Mech!  70632.0   \n",
      "12247       Take on the shark army with Zane’s Ice Tank!  70616.0   \n",
      "12248  Put the heat on the shark army with Kai’s Fire...  70615.0   \n",
      "12249      Speed to the rescue with Jay’s Lightning Jet!  70614.0   \n",
      "12250      Defend NINJAGO® City against Garma Mecha Man!  70613.0   \n",
      "12251       Get all fired up at Garmadon’s Volcano Lair!  70631.0   \n",
      "12252  Take on Garmadon with the Green Ninja Mech Dra...  70612.0   \n",
      "12253  Smash the shark army out of the water with the...  70611.0   \n",
      "12254  Battle against evil Jungle Garmadon on the jun...  70608.0   \n",
      "12255  Take on the tentacular Flying Jelly Sub with Jay!  70610.0   \n",
      "12256  Protect NINJAGO® City from flying Manta Ray Bo...  70609.0   \n",
      "12257         Stop a Piranha Attack with Kai and Misako!  70629.0   \n",
      "12258   Stop a crime in the NINJAGO® City street market!  70607.0   \n",
      "12259  Achieve Spinjitzu greatness with the Green Ninja!  70628.0   \n",
      "12260  Practice your Spinjitzu skills with Kai and Zane!  70606.0   \n",
      "\n",
      "                                          prod_long_desc review_difficulty  \\\n",
      "0      Use the staircase catapult to launch Red into ...           Average   \n",
      "1      Pilot Pig has taken off from Bird Island with ...              Easy   \n",
      "2      Pitch speedy bird Chuck against the Piggy Car....              Easy   \n",
      "3      Discover the architectural secrets of the icon...           Average   \n",
      "4      Discover the architectural secrets of Frank Ll...       Challenging   \n",
      "5      Recreate Shanghai in China's blend of historic...           Average   \n",
      "6      Celebrate the architectural diversity of New Y...           Average   \n",
      "7      Build a LEGO® brick model of London's official...           Average   \n",
      "8      Celebrate the architectural diversity of Londo...           Average   \n",
      "9      Recreate Chicago’s blend of historical and mod...           Average   \n",
      "10     Capture the architectural elegance of one of t...           Average   \n",
      "11     Presenting the LEGO® Architecture interpretati...           Average   \n",
      "12     Capture the architectural essence and splendor...              Easy   \n",
      "13     Take your LEGO® play to the next level with th...           Average   \n",
      "14     Fuel your creativity by making a LEGO® BrickHe...           Average   \n",
      "15     These LEGO® BrickHeadz™ 41614 Owen & Blue cons...              Easy   \n",
      "16     These LEGO® BrickHeadz™ 41613 Mr. Incredible &...         Very Easy   \n",
      "17     This LEGO® BrickHeadz™ 41609 Chewbacca is fun ...         Very Easy   \n",
      "18     This LEGO® BrickHeadz™ 41608 Han Solo is fun t...         Very Easy   \n",
      "19     This Iron Man MK50 LEGO® BrickHeadz constructi...           Average   \n",
      "20     This Thanos LEGO® BrickHeadz construction char...              Easy   \n",
      "21     This Star-Lord LEGO® BrickHeadz construction c...              Easy   \n",
      "22     This Gamora LEGO® BrickHeadz construction char...               NaN   \n",
      "23     This LEGO® BrickHeadz construction character f...              Easy   \n",
      "24     Build your way to someone’s heart and say “Bee...              Easy   \n",
      "25     This Wonder Woman™ LEGO® BrickHeadz constructi...              Easy   \n",
      "26     The Flash™ LEGO® BrickHeadz construction chara...         Very Easy   \n",
      "27     This LEGO® BrickHeadz construction character f...              Easy   \n",
      "28     This LEGO® BrickHeadz construction character f...              Easy   \n",
      "29     This Aquaman™ LEGO® BrickHeadz construction ch...         Very Easy   \n",
      "...                                                  ...               ...   \n",
      "12231  Recreate the hilarious scene from THE LEGO® BA...              Easy   \n",
      "12232  Help Batman™ fend off Egghead™ and Condiment K...           Average   \n",
      "12233  Join Batman’s pursuit of The Penguin in THE LE...              Easy   \n",
      "12234  Take on four Super-Villains at once in THE LEG...              Easy   \n",
      "12235  Glide over bumps in the Gotham City streets an...               NaN   \n",
      "12236  Save Gotham City Energy Facility from a fear g...           Average   \n",
      "12237  Help Batman™ defend the Gotham City Energy Fac...              Easy   \n",
      "12238  Team up with Batman™ to stop Scarecrow™ spread...              Easy   \n",
      "12239  Stage a face-off between The Joker™ and Batman...              Easy   \n",
      "12240  Bring exciting new play possibilities to exist...         Very Easy   \n",
      "12241  Take off from the Batcave in The Bat-Space Shu...           Average   \n",
      "12242  Enjoy endless role-play fun in NINJAGO® City, ...       Challenging   \n",
      "12243  Construct Wu’s huge ninja training base, Desti...       Challenging   \n",
      "12244  Join a ninja mission to infiltrate THE LEGO® N...           Average   \n",
      "12245  Help Lloyd to save Nomis and Nancy from Garmad...           Average   \n",
      "12246  Fire ‘soundwaves’ from Cole’s Quake Mech to sa...           Average   \n",
      "12247  Help Zane save Patty Keys and Torben from the ...           Average   \n",
      "12248  Get set for sizzling battle action with this h...           Average   \n",
      "12249  Save Ed and Edna from the shark army’s crab wi...           Average   \n",
      "12250  Help Lloyd protect civilian Pat from attack by...           Average   \n",
      "12251  Join Zane’s mission to infiltrate evil Garmado...           Average   \n",
      "12252  Outwit The Green Ninja’s evil father Garmadon ...           Average   \n",
      "12253  Launch into battle against the shark army and ...           Average   \n",
      "12254  Team up with Wu and Kai to take on Jungle Garm...              Easy   \n",
      "12255  Join ninja Jay in battle against the shark arm...           Average   \n",
      "12256  Help Cole save Shen-Li in this cool THE LEGO® ...              Easy   \n",
      "12257  Play out an action-packed Piranha Mech pursuit...              Easy   \n",
      "12258  Team up with Lloyd Garmadon, Nya and Officer T...              Easy   \n",
      "12259  Learn all the skills of Spinjitzu with THE LEG...         Very Easy   \n",
      "12260  Join the ninja heroes at the dojo with this ac...              Easy   \n",
      "\n",
      "                                     set_name  star_rating  \\\n",
      "0                       Bird Island Egg Heist          4.5   \n",
      "1                          Piggy Plane Attack          5.0   \n",
      "2                            Piggy Car Escape          4.3   \n",
      "3              United States Capitol Building          4.6   \n",
      "4               Solomon R. Guggenheim Museum®          4.6   \n",
      "5                                    Shanghai          4.9   \n",
      "6                               New York City          4.2   \n",
      "7                           Buckingham Palace          4.7   \n",
      "8                                      London          4.7   \n",
      "9                                     Chicago          4.8   \n",
      "10                            Arc de Triomphe          4.4   \n",
      "11                           The Eiffel Tower          4.6   \n",
      "12                                     Sydney          4.6   \n",
      "13                     BOOST Creative Toolbox          3.4   \n",
      "14                                Go Brick Me          4.8   \n",
      "15                                Owen & Blue          5.0   \n",
      "16                   Mr. Incredible & Frozone          5.0   \n",
      "17                                 Chewbacca™          3.0   \n",
      "18                                  Han Solo™          4.0   \n",
      "19                              Iron Man MK50          4.7   \n",
      "20                                     Thanos          5.0   \n",
      "21                                  Star-Lord          5.0   \n",
      "22                                     Gamora          5.0   \n",
      "23                                       Finn          4.5   \n",
      "24                            Valentine's Bee          4.9   \n",
      "25                              Wonder Woman™          5.0   \n",
      "26                                 The Flash™          4.0   \n",
      "27                                  Kylo Ren™          5.0   \n",
      "28                                        Rey          5.0   \n",
      "29                                   Aquaman™          4.0   \n",
      "...                                       ...          ...   \n",
      "12231   The Justice League™ Anniversary Party          3.2   \n",
      "12232                Egghead™ Mech Food Fight          4.8   \n",
      "12233              The Penguin™ Arctic Roller          4.8   \n",
      "12234               The Riddler™ Riddle Racer          4.2   \n",
      "12235                      The Bat-Dune Buggy          4.5   \n",
      "12236             Scarecrow™ Special Delivery          4.4   \n",
      "12237                  Mr. Freeze™ Ice Attack          4.6   \n",
      "12238             Scarecrow™ Fearful Face-off          4.1   \n",
      "12239               The Joker™ Balloon Escape          4.7   \n",
      "12240         THE LEGO® BATMAN MOVIE Series 2          4.8   \n",
      "12241                   The Bat-Space Shuttle          4.8   \n",
      "12242                           NINJAGO® City          4.9   \n",
      "12243                        Destiny's Bounty          4.9   \n",
      "12244  Temple of The Ultimate Ultimate Weapon          4.8   \n",
      "12245           garmadon, Garmadon, GARMADON!          4.9   \n",
      "12246                              Quake Mech          4.5   \n",
      "12247                                Ice Tank          4.8   \n",
      "12248                               Fire Mech          4.2   \n",
      "12249                           Lightning Jet          5.0   \n",
      "12250                         Garma Mecha Man          4.5   \n",
      "12251                 Garmadon's Volcano Lair          4.3   \n",
      "12252                 Green Ninja Mech Dragon          4.7   \n",
      "12253                           Water Strider          4.5   \n",
      "12254                            Master Falls          4.0   \n",
      "12255                        Flying Jelly Sub          4.6   \n",
      "12256                        Manta Ray Bomber          4.3   \n",
      "12257                          Piranha Attack          3.6   \n",
      "12258                     NINJAGO® City Chase          4.6   \n",
      "12259                Lloyd - Spinjitzu Master          5.0   \n",
      "12260                      Spinjitzu Training          4.7   \n",
      "\n",
      "                      theme_name  val_star_rating country  \n",
      "0                   Angry Birds™              4.0      US  \n",
      "1                   Angry Birds™              4.0      US  \n",
      "2                   Angry Birds™              4.1      US  \n",
      "3                   Architecture              4.3      US  \n",
      "4                   Architecture              4.1      US  \n",
      "5                   Architecture              4.4      US  \n",
      "6                   Architecture              4.1      US  \n",
      "7                   Architecture              4.3      US  \n",
      "8                   Architecture              4.1      US  \n",
      "9                   Architecture              4.5      US  \n",
      "10                  Architecture              3.6      US  \n",
      "11                  Architecture              4.4      US  \n",
      "12                  Architecture              4.2      US  \n",
      "13                         BOOST              3.5      US  \n",
      "14                    BrickHeadz              4.8      US  \n",
      "15                    BrickHeadz              5.0      US  \n",
      "16                    BrickHeadz              5.0      US  \n",
      "17                    BrickHeadz              4.0      US  \n",
      "18                    BrickHeadz              4.0      US  \n",
      "19                    BrickHeadz              4.5      US  \n",
      "20                    BrickHeadz              5.0      US  \n",
      "21                    BrickHeadz              5.0      US  \n",
      "22                    BrickHeadz              NaN      US  \n",
      "23                    BrickHeadz              4.0      US  \n",
      "24                    BrickHeadz              4.7      US  \n",
      "25                    BrickHeadz              5.0      US  \n",
      "26                    BrickHeadz              3.0      US  \n",
      "27                    BrickHeadz              4.8      US  \n",
      "28                    BrickHeadz              4.5      US  \n",
      "29                    BrickHeadz              3.0      US  \n",
      "...                          ...              ...     ...  \n",
      "12231     THE LEGO® BATMAN MOVIE              3.4      PT  \n",
      "12232     THE LEGO® BATMAN MOVIE              4.6      PT  \n",
      "12233     THE LEGO® BATMAN MOVIE              4.4      PT  \n",
      "12234     THE LEGO® BATMAN MOVIE              4.4      PT  \n",
      "12235     THE LEGO® BATMAN MOVIE              4.0      PT  \n",
      "12236     THE LEGO® BATMAN MOVIE              4.1      PT  \n",
      "12237     THE LEGO® BATMAN MOVIE              4.4      PT  \n",
      "12238     THE LEGO® BATMAN MOVIE              4.4      PT  \n",
      "12239     THE LEGO® BATMAN MOVIE              4.6      PT  \n",
      "12240                Minifigures              4.0      PT  \n",
      "12241     THE LEGO® BATMAN MOVIE              3.5      PT  \n",
      "12242  THE LEGO® NINJAGO® MOVIE™              4.8      PT  \n",
      "12243  THE LEGO® NINJAGO® MOVIE™              4.8      PT  \n",
      "12244  THE LEGO® NINJAGO® MOVIE™              4.8      PT  \n",
      "12245  THE LEGO® NINJAGO® MOVIE™              4.8      PT  \n",
      "12246  THE LEGO® NINJAGO® MOVIE™              4.4      PT  \n",
      "12247  THE LEGO® NINJAGO® MOVIE™              4.7      PT  \n",
      "12248  THE LEGO® NINJAGO® MOVIE™              4.6      PT  \n",
      "12249  THE LEGO® NINJAGO® MOVIE™              4.6      PT  \n",
      "12250  THE LEGO® NINJAGO® MOVIE™              4.5      PT  \n",
      "12251  THE LEGO® NINJAGO® MOVIE™              5.0      PT  \n",
      "12252  THE LEGO® NINJAGO® MOVIE™              4.5      PT  \n",
      "12253  THE LEGO® NINJAGO® MOVIE™              4.8      PT  \n",
      "12254  THE LEGO® NINJAGO® MOVIE™              3.6      PT  \n",
      "12255  THE LEGO® NINJAGO® MOVIE™              4.5      PT  \n",
      "12256  THE LEGO® NINJAGO® MOVIE™              4.2      PT  \n",
      "12257  THE LEGO® NINJAGO® MOVIE™              4.1      PT  \n",
      "12258  THE LEGO® NINJAGO® MOVIE™              4.5      PT  \n",
      "12259  THE LEGO® NINJAGO® MOVIE™              5.0      PT  \n",
      "12260  THE LEGO® NINJAGO® MOVIE™              4.8      PT  \n",
      "\n",
      "[12261 rows x 14 columns]\n"
     ]
    }
   ],
   "source": [
    "print (df)"
   ]
  },
  {
   "cell_type": "markdown",
   "metadata": {},
   "source": [
    "We can obtain the amount of lines  and columns in the dataset. this information can help us later to determine percentage of the data that will be used for training process and the rest for the testing process."
   ]
  },
  {
   "cell_type": "code",
   "execution_count": 81,
   "metadata": {},
   "outputs": [
    {
     "data": {
      "text/plain": [
       "(12261, 14)"
      ]
     },
     "execution_count": 81,
     "metadata": {},
     "output_type": "execute_result"
    }
   ],
   "source": [
    "df.shape"
   ]
  },
  {
   "cell_type": "code",
   "execution_count": 76,
   "metadata": {},
   "outputs": [
    {
     "name": "stdout",
     "output_type": "stream",
     "text": [
      "Total samples: 12261\n"
     ]
    }
   ],
   "source": [
    " print(\"Total samples:\", len(df))"
   ]
  },
  {
   "cell_type": "markdown",
   "metadata": {},
   "source": [
    "Lest say we are interested to make a comparison between the amount of pieces per set, and the list price, the id of the product is included for reference. "
   ]
  },
  {
   "cell_type": "code",
   "execution_count": 44,
   "metadata": {},
   "outputs": [],
   "source": [
    "# dataframe piece count vs price\n",
    "df1 =  df[['piece_count', 'list_price' , 'prod_id']]"
   ]
  },
  {
   "cell_type": "code",
   "execution_count": 45,
   "metadata": {},
   "outputs": [
    {
     "name": "stdout",
     "output_type": "stream",
     "text": [
      "       piece_count  list_price  prod_id\n",
      "0            277.0     29.9900  75823.0\n",
      "1            168.0     19.9900  75822.0\n",
      "2             74.0     12.9900  75821.0\n",
      "3           1032.0     99.9900  21030.0\n",
      "4            744.0     79.9900  21035.0\n",
      "5            597.0     59.9900  21039.0\n",
      "6            598.0     59.9900  21028.0\n",
      "7            780.0     49.9900  21029.0\n",
      "8            468.0     39.9900  21034.0\n",
      "9            444.0     39.9900  21033.0\n",
      "10           386.0     39.9900  21036.0\n",
      "11           321.0     34.9900  21019.0\n",
      "12           361.0     29.9900  21032.0\n",
      "13           847.0    159.9900  17101.0\n",
      "14           708.0     29.9900  41597.0\n",
      "15           234.0     19.9900  41614.0\n",
      "16           160.0     19.9900  41613.0\n",
      "17           149.0      9.9900  41609.0\n",
      "18           141.0      9.9900  41608.0\n",
      "19           101.0      9.9900  41604.0\n",
      "20           105.0      9.9900  41605.0\n",
      "21           113.0      9.9900  41606.0\n",
      "22           136.0      9.9900  41607.0\n",
      "23            91.0      9.9900  41485.0\n",
      "24           140.0      9.9900  40270.0\n",
      "25           143.0      9.9900  41599.0\n",
      "26           122.0      9.9900  41598.0\n",
      "27           130.0      9.9900  41603.0\n",
      "28           119.0      9.9900  41602.0\n",
      "29           135.0      9.9900  41600.0\n",
      "...            ...         ...      ...\n",
      "12231        267.0     48.7878  70919.0\n",
      "12232        293.0     48.7878  70920.0\n",
      "12233        305.0     42.6878  70911.0\n",
      "12234        254.0     42.6878  70903.0\n",
      "12235        198.0     30.4878  70918.0\n",
      "12236        204.0     30.4878  70910.0\n",
      "12237        201.0     30.4878  70901.0\n",
      "12238        141.0     18.2878  70913.0\n",
      "12239        124.0     18.2878  70900.0\n",
      "12240          8.0      4.8678  71020.0\n",
      "12241        643.0    103.6878  70923.0\n",
      "12242       4867.0    365.9878  70620.0\n",
      "12243       2295.0    225.6878  70618.0\n",
      "12244       1403.0    134.1878  70617.0\n",
      "12245        830.0    103.6878  70656.0\n",
      "12246       1202.0    103.6878  70632.0\n",
      "12247        914.0     97.5878  70616.0\n",
      "12248        944.0     97.5878  70615.0\n",
      "12249        876.0     82.9478  70614.0\n",
      "12250        747.0     73.1878  70613.0\n",
      "12251        521.0     60.9878  70631.0\n",
      "12252        544.0     60.9878  70612.0\n",
      "12253        494.0     48.7878  70611.0\n",
      "12254        312.0     36.5878  70608.0\n",
      "12255        341.0     36.5878  70610.0\n",
      "12256        341.0     36.5878  70609.0\n",
      "12257        217.0     24.3878  70629.0\n",
      "12258        233.0     24.3878  70607.0\n",
      "12259         48.0     12.1878  70628.0\n",
      "12260        109.0     12.1878  70606.0\n",
      "\n",
      "[12261 rows x 3 columns]\n"
     ]
    }
   ],
   "source": [
    "print(df1)"
   ]
  },
  {
   "cell_type": "markdown",
   "metadata": {},
   "source": [
    "We can calculate the median of our data."
   ]
  },
  {
   "cell_type": "code",
   "execution_count": 77,
   "metadata": {},
   "outputs": [],
   "source": [
    "mean_price =  df1['list_price'].mean()"
   ]
  },
  {
   "cell_type": "code",
   "execution_count": 78,
   "metadata": {
    "scrolled": true
   },
   "outputs": [
    {
     "name": "stdout",
     "output_type": "stream",
     "text": [
      "65.14199840959138\n"
     ]
    }
   ],
   "source": [
    "print(mean_price)"
   ]
  },
  {
   "cell_type": "markdown",
   "metadata": {},
   "source": [
    "Minimun and maximun values for dataset df1."
   ]
  },
  {
   "cell_type": "code",
   "execution_count": 86,
   "metadata": {},
   "outputs": [
    {
     "data": {
      "text/plain": [
       "piece_count      1.0000\n",
       "list_price       2.2724\n",
       "prod_id        630.0000\n",
       "dtype: float64"
      ]
     },
     "execution_count": 86,
     "metadata": {},
     "output_type": "execute_result"
    }
   ],
   "source": [
    "df1.min()"
   ]
  },
  {
   "cell_type": "code",
   "execution_count": 87,
   "metadata": {},
   "outputs": [
    {
     "data": {
      "text/plain": [
       "piece_count       7541.00\n",
       "list_price        1104.87\n",
       "prod_id        2000431.00\n",
       "dtype: float64"
      ]
     },
     "execution_count": 87,
     "metadata": {},
     "output_type": "execute_result"
    }
   ],
   "source": [
    "df1.max()"
   ]
  },
  {
   "cell_type": "markdown",
   "metadata": {},
   "source": [
    "We can verify if there is any null in the dataset."
   ]
  },
  {
   "cell_type": "code",
   "execution_count": 89,
   "metadata": {},
   "outputs": [
    {
     "data": {
      "text/plain": [
       "False"
      ]
     },
     "execution_count": 89,
     "metadata": {},
     "output_type": "execute_result"
    }
   ],
   "source": [
    "df1.isnull().values.any()"
   ]
  },
  {
   "cell_type": "markdown",
   "metadata": {},
   "source": [
    "If necesary, it is possible to shuffle data in dataframes."
   ]
  },
  {
   "cell_type": "code",
   "execution_count": 93,
   "metadata": {},
   "outputs": [],
   "source": [
    "df2 =  df[['piece_count', 'list_price' , 'prod_id']]\n",
    "df2 = shuffle(df2)"
   ]
  },
  {
   "cell_type": "code",
   "execution_count": 94,
   "metadata": {},
   "outputs": [
    {
     "name": "stdout",
     "output_type": "stream",
     "text": [
      "       piece_count  list_price    prod_id\n",
      "4745          63.0     18.2878    10737.0\n",
      "4540          53.0      7.3078    60156.0\n",
      "11282        728.0     75.3971    31069.0\n",
      "8080         622.0     85.3878    41314.0\n",
      "9148          36.0     24.3878    10816.0\n",
      "7759        7541.0    909.9860    75192.0\n",
      "2135         191.0     48.7878    10744.0\n",
      "7781         140.0     25.1860    42058.0\n",
      "11501        160.0     34.7971    76076.0\n",
      "10134         78.0      6.0878    10706.0\n",
      "11232        387.0     52.1971    60175.0\n",
      "562           67.0      9.9900    70339.0\n",
      "12100        312.0     36.5878    70608.0\n",
      "3026         601.0    311.9922    31313.0\n",
      "10074        888.0    219.5878    60052.0\n",
      "3787         149.0     12.1380    41609.0\n",
      "1061         149.0     15.1924    41190.0\n",
      "10469         69.0     12.1878    70634.0\n",
      "328           28.0     29.9900    10608.0\n",
      "4884         101.0     36.5878    75535.0\n",
      "1171           1.0    250.7924    45500.0\n",
      "3890           8.0      4.9980    71020.0\n",
      "7673          73.0     13.9860    70637.0\n",
      "6595          94.0     30.4390    75526.0\n",
      "9198         186.0     24.3878    41315.0\n",
      "4358         452.0     76.7520    75532.0\n",
      "9584           1.0     10.3870    10714.0\n",
      "3350         321.0     40.6980    21019.0\n",
      "2260         131.0     24.3878    10755.0\n",
      "1855         691.0     85.3878    75172.0\n",
      "...            ...         ...        ...\n",
      "4864        2455.0    683.1878  2000431.0\n",
      "11596        104.0     37.6971    75537.0\n",
      "12214        135.0     24.3878    42072.0\n",
      "5025         101.0     12.0000    41604.0\n",
      "9154          28.0     24.3878    10861.0\n",
      "919          379.0     30.3924    31079.0\n",
      "9509         141.0     12.9870    41608.0\n",
      "2328         470.0     67.0878    21143.0\n",
      "2924         185.0     19.4922    41300.0\n",
      "9785          75.0     12.9870    10732.0\n",
      "8588          65.0     36.5878    10572.0\n",
      "9492          48.0     12.1878    70628.0\n",
      "6342          28.0     24.3390    10861.0\n",
      "3726         169.0     50.8980    60153.0\n",
      "9702          28.0     25.9870    10861.0\n",
      "9867        1403.0    142.8700    70617.0\n",
      "4355         557.0     95.9520    75185.0\n",
      "772          425.0     49.9900    70921.0\n",
      "3244         120.0     13.2522    75164.0\n",
      "7214         581.0     79.2878    70905.0\n",
      "4532           2.0     14.6278     7281.0\n",
      "7370        4163.0    251.9860    10253.0\n",
      "4467         386.0     48.7878    21036.0\n",
      "8448         257.0     36.5878    60108.0\n",
      "9174         145.0     24.3878    41186.0\n",
      "9253          24.0     24.3878    10879.0\n",
      "10906        149.0     35.4929    10760.0\n",
      "3776         196.0     18.2580    75877.0\n",
      "10459        217.0     24.3878    70629.0\n",
      "4309          68.0     12.4320    70635.0\n",
      "\n",
      "[12261 rows x 3 columns]\n"
     ]
    }
   ],
   "source": [
    "print(df2)"
   ]
  },
  {
   "cell_type": "markdown",
   "metadata": {},
   "source": [
    "It is possible to take advantage of other libraries, in this case plot the information to make it more appealing."
   ]
  },
  {
   "cell_type": "code",
   "execution_count": 97,
   "metadata": {},
   "outputs": [
    {
     "data": {
      "text/plain": [
       "<matplotlib.axes._subplots.AxesSubplot at 0x1b48b97a978>"
      ]
     },
     "execution_count": 97,
     "metadata": {},
     "output_type": "execute_result"
    },
    {
     "data": {
      "image/png": "[encoded data removed]",
      "text/plain": [
       "<Figure size 432x288 with 1 Axes>"
      ]
     },
     "metadata": {
      "needs_background": "light"
     },
     "output_type": "display_data"
    }
   ],
   "source": [
    "df2.plot.scatter(x='piece_count', y='list_price')"
   ]
  },
  {
   "cell_type": "code",
   "execution_count": null,
   "metadata": {},
   "outputs": [],
   "source": []
  }
 ],
 "metadata": {
  "kernelspec": {
   "display_name": "Python 3",
   "language": "python",
   "name": "python3"
  },
  "language_info": {
   "codemirror_mode": {
    "name": "ipython",
    "version": 3
   },
   "file_extension": ".py",
   "mimetype": "text/x-python",
   "name": "python",
   "nbconvert_exporter": "python",
   "pygments_lexer": "ipython3",
   "version": "3.7.3"
  }
 },
 "nbformat": 4,
 "nbformat_minor": 2
}
